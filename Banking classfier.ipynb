{
 "cells": [
  {
   "cell_type": "markdown",
   "id": "9280923a",
   "metadata": {},
   "source": [
    "# Required libraries"
   ]
  },
  {
   "cell_type": "code",
   "execution_count": 1,
   "id": "2dcd60e0",
   "metadata": {},
   "outputs": [],
   "source": [
    "import pandas as pd \n",
    "import numpy as np \n",
    "import seaborn as sns "
   ]
  },
  {
   "cell_type": "markdown",
   "id": "0080f345",
   "metadata": {},
   "source": [
    "# scanning the file to dataframe "
   ]
  },
  {
   "cell_type": "markdown",
   "id": "a2da9240",
   "metadata": {},
   "source": [
    "# check duplicated ?"
   ]
  },
  {
   "cell_type": "code",
   "execution_count": 2,
   "id": "3ec4a7f4",
   "metadata": {},
   "outputs": [
    {
     "data": {
      "text/html": [
       "<div>\n",
       "<style scoped>\n",
       "    .dataframe tbody tr th:only-of-type {\n",
       "        vertical-align: middle;\n",
       "    }\n",
       "\n",
       "    .dataframe tbody tr th {\n",
       "        vertical-align: top;\n",
       "    }\n",
       "\n",
       "    .dataframe thead th {\n",
       "        text-align: right;\n",
       "    }\n",
       "</style>\n",
       "<table border=\"1\" class=\"dataframe\">\n",
       "  <thead>\n",
       "    <tr style=\"text-align: right;\">\n",
       "      <th></th>\n",
       "      <th>RowNumber</th>\n",
       "      <th>CustomerId</th>\n",
       "      <th>Surname</th>\n",
       "      <th>CreditScore</th>\n",
       "      <th>Geography</th>\n",
       "      <th>Gender</th>\n",
       "      <th>Age</th>\n",
       "      <th>Tenure</th>\n",
       "      <th>Balance</th>\n",
       "      <th>NumOfProducts</th>\n",
       "      <th>HasCrCard</th>\n",
       "      <th>IsActiveMember</th>\n",
       "      <th>EstimatedSalary</th>\n",
       "      <th>Exited</th>\n",
       "    </tr>\n",
       "  </thead>\n",
       "  <tbody>\n",
       "    <tr>\n",
       "      <th>0</th>\n",
       "      <td>1</td>\n",
       "      <td>15634602</td>\n",
       "      <td>Hargrave</td>\n",
       "      <td>619</td>\n",
       "      <td>France</td>\n",
       "      <td>?</td>\n",
       "      <td>42</td>\n",
       "      <td>2</td>\n",
       "      <td>0.00</td>\n",
       "      <td>1</td>\n",
       "      <td>1</td>\n",
       "      <td>1</td>\n",
       "      <td>101348.88</td>\n",
       "      <td>1</td>\n",
       "    </tr>\n",
       "    <tr>\n",
       "      <th>1</th>\n",
       "      <td>2</td>\n",
       "      <td>15647311</td>\n",
       "      <td>Hill</td>\n",
       "      <td>608</td>\n",
       "      <td>Spain</td>\n",
       "      <td>?</td>\n",
       "      <td>41</td>\n",
       "      <td>1</td>\n",
       "      <td>83807.86</td>\n",
       "      <td>1</td>\n",
       "      <td>0</td>\n",
       "      <td>1</td>\n",
       "      <td>112542.58</td>\n",
       "      <td>0</td>\n",
       "    </tr>\n",
       "    <tr>\n",
       "      <th>2</th>\n",
       "      <td>3</td>\n",
       "      <td>15619304</td>\n",
       "      <td>Onio</td>\n",
       "      <td>502</td>\n",
       "      <td>France</td>\n",
       "      <td>?</td>\n",
       "      <td>42</td>\n",
       "      <td>8</td>\n",
       "      <td>159660.80</td>\n",
       "      <td>3</td>\n",
       "      <td>1</td>\n",
       "      <td>0</td>\n",
       "      <td>113931.57</td>\n",
       "      <td>1</td>\n",
       "    </tr>\n",
       "    <tr>\n",
       "      <th>3</th>\n",
       "      <td>4</td>\n",
       "      <td>15701354</td>\n",
       "      <td>Boni</td>\n",
       "      <td>699</td>\n",
       "      <td>France</td>\n",
       "      <td>?</td>\n",
       "      <td>39</td>\n",
       "      <td>1</td>\n",
       "      <td>0.00</td>\n",
       "      <td>2</td>\n",
       "      <td>0</td>\n",
       "      <td>0</td>\n",
       "      <td>93826.63</td>\n",
       "      <td>0</td>\n",
       "    </tr>\n",
       "    <tr>\n",
       "      <th>4</th>\n",
       "      <td>5</td>\n",
       "      <td>15737888</td>\n",
       "      <td>Mitchell</td>\n",
       "      <td>850</td>\n",
       "      <td>Spain</td>\n",
       "      <td>?</td>\n",
       "      <td>43</td>\n",
       "      <td>2</td>\n",
       "      <td>125510.82</td>\n",
       "      <td>1</td>\n",
       "      <td>1</td>\n",
       "      <td>1</td>\n",
       "      <td>79084.10</td>\n",
       "      <td>0</td>\n",
       "    </tr>\n",
       "    <tr>\n",
       "      <th>...</th>\n",
       "      <td>...</td>\n",
       "      <td>...</td>\n",
       "      <td>...</td>\n",
       "      <td>...</td>\n",
       "      <td>...</td>\n",
       "      <td>...</td>\n",
       "      <td>...</td>\n",
       "      <td>...</td>\n",
       "      <td>...</td>\n",
       "      <td>...</td>\n",
       "      <td>...</td>\n",
       "      <td>...</td>\n",
       "      <td>...</td>\n",
       "      <td>...</td>\n",
       "    </tr>\n",
       "    <tr>\n",
       "      <th>9995</th>\n",
       "      <td>9996</td>\n",
       "      <td>15606229</td>\n",
       "      <td>Obijiaku</td>\n",
       "      <td>771</td>\n",
       "      <td>France</td>\n",
       "      <td>Male</td>\n",
       "      <td>39</td>\n",
       "      <td>5</td>\n",
       "      <td>0.00</td>\n",
       "      <td>2</td>\n",
       "      <td>1</td>\n",
       "      <td>0</td>\n",
       "      <td>96270.64</td>\n",
       "      <td>0</td>\n",
       "    </tr>\n",
       "    <tr>\n",
       "      <th>9996</th>\n",
       "      <td>9997</td>\n",
       "      <td>15569892</td>\n",
       "      <td>Johnstone</td>\n",
       "      <td>516</td>\n",
       "      <td>France</td>\n",
       "      <td>Male</td>\n",
       "      <td>35</td>\n",
       "      <td>10</td>\n",
       "      <td>57369.61</td>\n",
       "      <td>1</td>\n",
       "      <td>1</td>\n",
       "      <td>1</td>\n",
       "      <td>101699.77</td>\n",
       "      <td>0</td>\n",
       "    </tr>\n",
       "    <tr>\n",
       "      <th>9997</th>\n",
       "      <td>9998</td>\n",
       "      <td>15584532</td>\n",
       "      <td>Liu</td>\n",
       "      <td>709</td>\n",
       "      <td>France</td>\n",
       "      <td>Female</td>\n",
       "      <td>36</td>\n",
       "      <td>7</td>\n",
       "      <td>0.00</td>\n",
       "      <td>1</td>\n",
       "      <td>0</td>\n",
       "      <td>1</td>\n",
       "      <td>42085.58</td>\n",
       "      <td>1</td>\n",
       "    </tr>\n",
       "    <tr>\n",
       "      <th>9998</th>\n",
       "      <td>9999</td>\n",
       "      <td>15682355</td>\n",
       "      <td>Sabbatini</td>\n",
       "      <td>772</td>\n",
       "      <td>Germany</td>\n",
       "      <td>Male</td>\n",
       "      <td>42</td>\n",
       "      <td>3</td>\n",
       "      <td>75075.31</td>\n",
       "      <td>2</td>\n",
       "      <td>1</td>\n",
       "      <td>0</td>\n",
       "      <td>92888.52</td>\n",
       "      <td>1</td>\n",
       "    </tr>\n",
       "    <tr>\n",
       "      <th>9999</th>\n",
       "      <td>10000</td>\n",
       "      <td>15628319</td>\n",
       "      <td>Walker</td>\n",
       "      <td>792</td>\n",
       "      <td>France</td>\n",
       "      <td>Female</td>\n",
       "      <td>28</td>\n",
       "      <td>4</td>\n",
       "      <td>130142.79</td>\n",
       "      <td>1</td>\n",
       "      <td>1</td>\n",
       "      <td>0</td>\n",
       "      <td>38190.78</td>\n",
       "      <td>0</td>\n",
       "    </tr>\n",
       "  </tbody>\n",
       "</table>\n",
       "<p>10000 rows × 14 columns</p>\n",
       "</div>"
      ],
      "text/plain": [
       "      RowNumber  CustomerId    Surname CreditScore Geography  Gender  Age  \\\n",
       "0             1    15634602   Hargrave         619    France       ?   42   \n",
       "1             2    15647311       Hill         608     Spain       ?   41   \n",
       "2             3    15619304       Onio         502    France       ?   42   \n",
       "3             4    15701354       Boni         699    France       ?   39   \n",
       "4             5    15737888   Mitchell         850     Spain       ?   43   \n",
       "...         ...         ...        ...         ...       ...     ...  ...   \n",
       "9995       9996    15606229   Obijiaku         771    France    Male   39   \n",
       "9996       9997    15569892  Johnstone         516    France    Male   35   \n",
       "9997       9998    15584532        Liu         709    France  Female   36   \n",
       "9998       9999    15682355  Sabbatini         772   Germany    Male   42   \n",
       "9999      10000    15628319     Walker         792    France  Female   28   \n",
       "\n",
       "      Tenure    Balance  NumOfProducts  HasCrCard  IsActiveMember  \\\n",
       "0          2       0.00              1          1               1   \n",
       "1          1   83807.86              1          0               1   \n",
       "2          8  159660.80              3          1               0   \n",
       "3          1       0.00              2          0               0   \n",
       "4          2  125510.82              1          1               1   \n",
       "...      ...        ...            ...        ...             ...   \n",
       "9995       5       0.00              2          1               0   \n",
       "9996      10   57369.61              1          1               1   \n",
       "9997       7       0.00              1          0               1   \n",
       "9998       3   75075.31              2          1               0   \n",
       "9999       4  130142.79              1          1               0   \n",
       "\n",
       "      EstimatedSalary  Exited  \n",
       "0           101348.88       1  \n",
       "1           112542.58       0  \n",
       "2           113931.57       1  \n",
       "3            93826.63       0  \n",
       "4            79084.10       0  \n",
       "...               ...     ...  \n",
       "9995         96270.64       0  \n",
       "9996        101699.77       0  \n",
       "9997         42085.58       1  \n",
       "9998         92888.52       1  \n",
       "9999         38190.78       0  \n",
       "\n",
       "[10000 rows x 14 columns]"
      ]
     },
     "execution_count": 2,
     "metadata": {},
     "output_type": "execute_result"
    }
   ],
   "source": [
    "df= pd.read_csv('project banking/Banking.csv')\n",
    "df"
   ]
  },
  {
   "cell_type": "markdown",
   "id": "cfce7979",
   "metadata": {},
   "source": [
    "# check datatypes and nans by Info"
   ]
  },
  {
   "cell_type": "code",
   "execution_count": 3,
   "id": "ff74d619",
   "metadata": {
    "scrolled": true
   },
   "outputs": [
    {
     "name": "stdout",
     "output_type": "stream",
     "text": [
      "<class 'pandas.core.frame.DataFrame'>\n",
      "RangeIndex: 10000 entries, 0 to 9999\n",
      "Data columns (total 14 columns):\n",
      " #   Column           Non-Null Count  Dtype  \n",
      "---  ------           --------------  -----  \n",
      " 0   RowNumber        10000 non-null  int64  \n",
      " 1   CustomerId       10000 non-null  int64  \n",
      " 2   Surname          10000 non-null  object \n",
      " 3   CreditScore      10000 non-null  object \n",
      " 4   Geography        10000 non-null  object \n",
      " 5   Gender           10000 non-null  object \n",
      " 6   Age              10000 non-null  int64  \n",
      " 7   Tenure           10000 non-null  int64  \n",
      " 8   Balance          10000 non-null  float64\n",
      " 9   NumOfProducts    10000 non-null  int64  \n",
      " 10  HasCrCard        10000 non-null  int64  \n",
      " 11  IsActiveMember   10000 non-null  int64  \n",
      " 12  EstimatedSalary  10000 non-null  float64\n",
      " 13  Exited           10000 non-null  int64  \n",
      "dtypes: float64(2), int64(8), object(4)\n",
      "memory usage: 1.1+ MB\n"
     ]
    }
   ],
   "source": [
    "df.info()"
   ]
  },
  {
   "cell_type": "code",
   "execution_count": 4,
   "id": "21a59acb",
   "metadata": {},
   "outputs": [
    {
     "data": {
      "text/plain": [
       "0"
      ]
     },
     "execution_count": 4,
     "metadata": {},
     "output_type": "execute_result"
    }
   ],
   "source": [
    "df.duplicated().isnull().sum()"
   ]
  },
  {
   "cell_type": "markdown",
   "id": "e403b17e",
   "metadata": {},
   "source": [
    "# no of nan valuses in each coulmns "
   ]
  },
  {
   "cell_type": "code",
   "execution_count": 5,
   "id": "2245e2fa",
   "metadata": {},
   "outputs": [
    {
     "data": {
      "text/plain": [
       "RowNumber          0\n",
       "CustomerId         0\n",
       "Surname            0\n",
       "CreditScore        0\n",
       "Geography          0\n",
       "Gender             0\n",
       "Age                0\n",
       "Tenure             0\n",
       "Balance            0\n",
       "NumOfProducts      0\n",
       "HasCrCard          0\n",
       "IsActiveMember     0\n",
       "EstimatedSalary    0\n",
       "Exited             0\n",
       "dtype: int64"
      ]
     },
     "execution_count": 5,
     "metadata": {},
     "output_type": "execute_result"
    }
   ],
   "source": [
    "df.isnull().sum()"
   ]
  },
  {
   "cell_type": "markdown",
   "id": "79fb8bdf",
   "metadata": {},
   "source": [
    "# drop unuseful columns "
   ]
  },
  {
   "cell_type": "code",
   "execution_count": 6,
   "id": "18b22bf4",
   "metadata": {},
   "outputs": [],
   "source": [
    "df.drop(['RowNumber' , 'Surname'] , axis =1 , inplace =True)"
   ]
  },
  {
   "cell_type": "code",
   "execution_count": 7,
   "id": "96b9e04b",
   "metadata": {},
   "outputs": [],
   "source": [
    "df.drop(['CustomerId'] , axis =1 , inplace=True)"
   ]
  },
  {
   "cell_type": "markdown",
   "id": "bdc36fcb",
   "metadata": {},
   "source": [
    "# now we will clean the data "
   ]
  },
  {
   "cell_type": "markdown",
   "id": "29127868",
   "metadata": {},
   "source": [
    "### Geography feature"
   ]
  },
  {
   "cell_type": "code",
   "execution_count": 8,
   "id": "5e696e65",
   "metadata": {},
   "outputs": [
    {
     "data": {
      "text/plain": [
       "France     4988\n",
       "Germany    2490\n",
       "Spain      2466\n",
       "?|           36\n",
       "z||o         20\n",
       "Name: Geography, dtype: int64"
      ]
     },
     "execution_count": 8,
     "metadata": {},
     "output_type": "execute_result"
    }
   ],
   "source": [
    "df['Geography'].value_counts()"
   ]
  },
  {
   "cell_type": "code",
   "execution_count": 9,
   "id": "71755886",
   "metadata": {},
   "outputs": [
    {
     "data": {
      "text/plain": [
       "array(['France', 'Spain', 'Germany', '?|', 'z||o'], dtype=object)"
      ]
     },
     "execution_count": 9,
     "metadata": {},
     "output_type": "execute_result"
    }
   ],
   "source": [
    "df['Geography'].unique()"
   ]
  },
  {
   "cell_type": "code",
   "execution_count": 10,
   "id": "114b559e",
   "metadata": {},
   "outputs": [],
   "source": [
    "def handle (x):\n",
    "    if x in ['z||o','?|'] :\n",
    "        return np.nan \n",
    "    else :\n",
    "        return x"
   ]
  },
  {
   "cell_type": "code",
   "execution_count": 11,
   "id": "c93f06f8",
   "metadata": {},
   "outputs": [],
   "source": [
    "df['Geography']=df['Geography'].apply(handle)"
   ]
  },
  {
   "cell_type": "code",
   "execution_count": 12,
   "id": "10cef83c",
   "metadata": {},
   "outputs": [
    {
     "data": {
      "text/plain": [
       "array(['France', 'Spain', 'Germany', nan], dtype=object)"
      ]
     },
     "execution_count": 12,
     "metadata": {},
     "output_type": "execute_result"
    }
   ],
   "source": [
    "df['Geography'].unique()"
   ]
  },
  {
   "cell_type": "code",
   "execution_count": 13,
   "id": "489f70bb",
   "metadata": {},
   "outputs": [
    {
     "data": {
      "text/plain": [
       "56"
      ]
     },
     "execution_count": 13,
     "metadata": {},
     "output_type": "execute_result"
    }
   ],
   "source": [
    "df['Geography'].isnull().sum()"
   ]
  },
  {
   "cell_type": "code",
   "execution_count": 14,
   "id": "124adbf1",
   "metadata": {},
   "outputs": [
    {
     "data": {
      "text/plain": [
       "CreditScore         0\n",
       "Geography          56\n",
       "Gender              0\n",
       "Age                 0\n",
       "Tenure              0\n",
       "Balance             0\n",
       "NumOfProducts       0\n",
       "HasCrCard           0\n",
       "IsActiveMember      0\n",
       "EstimatedSalary     0\n",
       "Exited              0\n",
       "dtype: int64"
      ]
     },
     "execution_count": 14,
     "metadata": {},
     "output_type": "execute_result"
    }
   ],
   "source": [
    "df.isnull().sum()"
   ]
  },
  {
   "cell_type": "markdown",
   "id": "a518b768",
   "metadata": {},
   "source": [
    "### Gender feature"
   ]
  },
  {
   "cell_type": "code",
   "execution_count": 15,
   "id": "56bc7640",
   "metadata": {},
   "outputs": [
    {
     "data": {
      "text/plain": [
       "array(['?', 'Male', 'Female', 'x?x'], dtype=object)"
      ]
     },
     "execution_count": 15,
     "metadata": {},
     "output_type": "execute_result"
    }
   ],
   "source": [
    "df['Gender'].unique()"
   ]
  },
  {
   "cell_type": "code",
   "execution_count": 16,
   "id": "861c4166",
   "metadata": {},
   "outputs": [],
   "source": [
    "def handle (x):\n",
    "    if x in ['x?x','?'] :\n",
    "        return np.nan \n",
    "    else :\n",
    "        return x"
   ]
  },
  {
   "cell_type": "code",
   "execution_count": 18,
   "id": "adaa6954",
   "metadata": {},
   "outputs": [],
   "source": [
    "df['Gender']=df['Gender'].apply(handle)"
   ]
  },
  {
   "cell_type": "code",
   "execution_count": 19,
   "id": "c13fc255",
   "metadata": {},
   "outputs": [
    {
     "data": {
      "text/plain": [
       "29"
      ]
     },
     "execution_count": 19,
     "metadata": {},
     "output_type": "execute_result"
    }
   ],
   "source": [
    "df['Gender'].isnull().sum()"
   ]
  },
  {
   "cell_type": "markdown",
   "id": "38ec6a8c",
   "metadata": {},
   "source": [
    "### CreditScore feature"
   ]
  },
  {
   "cell_type": "code",
   "execution_count": 20,
   "id": "4efba3fa",
   "metadata": {},
   "outputs": [
    {
     "data": {
      "text/plain": [
       "array(['619', '608', '502', '699', '850', '645', '822', '376', '501',\n",
       "       '684', '528', '497', '476', '549', '635', '616', '653', '587',\n",
       "       '726', '732', '636', '510', '669', '846', '577', '756', '571',\n",
       "       '574', '411', '591', '533', '553', '520', '722', 'missed', '804',\n",
       "       '582', '472', '465', '556', '776', '829', '637', '550', '698',\n",
       "       '585', '788', '655', '601', '656', '725', '511', '614', '742',\n",
       "       '687', '555', '603', '751', '581', '735', '661', '675', '738',\n",
       "       '813', '657', '604', '519', '664', '678', '757', '416', '543',\n",
       "       '506', '493', '652', '646', '647', '808', '524', '769', '730',\n",
       "       '515', '773', '814', '710', '413', '665', '623', '670', '622',\n",
       "       '785', '479', '685', '538', '562', '628', '668', '828', '674',\n",
       "       '625', '432', '770', '758', '795', '686', '789', '589', '461',\n",
       "       '584', '579', '663', '682', '793', '691', '485', '650', '754',\n",
       "       '535', '716', '539', '706', '586', '717', '800', '683', '660',\n",
       "       '704', '615', '667', '484', '480', '578', '512', '606', '597',\n",
       "       '778', '514', '525', '715', '580', '807', '721', '521', '516',\n",
       "       '711', '618', '643', '671', '689', '620', '676', '572', '695',\n",
       "       '592', '567', '694', '547', '594', '673', '610', '767', '763',\n",
       "       '712', '703', '662', '659', '772', '545', '634', '739', '771',\n",
       "       '681', '544', '696', '766', '727', '693', '557', '531', '498',\n",
       "       '791', '733', '707', '777', '714', '782', '775', '799', '602',\n",
       "       '475', '744', '588', '747', '583', '750', '627', '731', '629',\n",
       "       '438', '729', '642', '806', '474', '559', '429', '680', '749',\n",
       "       '734', '644', '626', '649', '805', '718', '840', '630', '654',\n",
       "       '762', '568', '522', '648', '443', '640', '540', '460', '593',\n",
       "       '801', '611', '802', '690', '492', '709', '705', '560', '701',\n",
       "       '605', '745', '487', '596', '702', '486', '724', '548', '464',\n",
       "       '790', '534', '748', '494', '590', '468', '509', '818', '536',\n",
       "       '753', '631', '774', '621', '569', '798', '641', '542', '692',\n",
       "       '639', '765', '570', '638', '599', '632', '779', '527', '564',\n",
       "       '833', '504', '842', '508', '417', '598', '741', '607', '737',\n",
       "       '761', '651', '848', '546', '439', '755', '760', '526', '713',\n",
       "       '700', '666', '566', '495', '688', '612', '477', '427', '752',\n",
       "       '839', '819', '720', '459', '503', '624', '529', '563', '482',\n",
       "       '796', '445', '746', '786', '554', '672', '787', '499', '816',\n",
       "       '844', '450', '490', '815', '838', '803', '736', '633', '600',\n",
       "       '679', '517', '792', '743', '488', '421', '841', '708', '507',\n",
       "       '505', '523', '456', '435', '561', '518', '565', '728', '784',\n",
       "       '552', '609', '764', '697', '723', '551', '811', '759', '444',\n",
       "       '719', '496', '541', '830', '812', '613', '658', '677', '420',\n",
       "       '595', '617', '809', '500', '826', '434', '513', '478', '797',\n",
       "       '363', '399', '463', '780', '452', '575', '837', '794', '824',\n",
       "       '428', '823', '781', '849', '489', '431', '457', '768', '831',\n",
       "       '359', '820', '573', '576', '558', '817', '449', '440', '415',\n",
       "       '821', '530', '834', '350', '446', '425', '740', '481', '783',\n",
       "       '358', '845', '451', '458', '469', '423', '404', '836', '473',\n",
       "       '835', '466', '491', '537', '351', '827', '843', '365', '532',\n",
       "       '414', '453', '471', '401', '810', '483', '832', '470', '447',\n",
       "       '422', '825', '430', '436', '426', '408', '847', '418', '437',\n",
       "       '410', '454', '407', '455', '462', '386', '405', '383', '395',\n",
       "       '467', '433', '442', '424', '448', '441', '367', '412', '382',\n",
       "       '373', '419'], dtype=object)"
      ]
     },
     "execution_count": 20,
     "metadata": {},
     "output_type": "execute_result"
    }
   ],
   "source": [
    "df['CreditScore'].unique()"
   ]
  },
  {
   "cell_type": "code",
   "execution_count": 21,
   "id": "559e1fa6",
   "metadata": {},
   "outputs": [],
   "source": [
    "def handle (x):\n",
    "    if x in ['missed',] :\n",
    "        return np.nan \n",
    "    else :\n",
    "        return x"
   ]
  },
  {
   "cell_type": "code",
   "execution_count": 22,
   "id": "1f8f97ba",
   "metadata": {},
   "outputs": [],
   "source": [
    "df['CreditScore']=df['CreditScore'].apply(handle)"
   ]
  },
  {
   "cell_type": "code",
   "execution_count": 23,
   "id": "e0912bca",
   "metadata": {},
   "outputs": [],
   "source": [
    "df['CreditScore'] = df['CreditScore'].astype(float)"
   ]
  },
  {
   "cell_type": "code",
   "execution_count": 24,
   "id": "fed5d339",
   "metadata": {},
   "outputs": [
    {
     "name": "stdout",
     "output_type": "stream",
     "text": [
      "<class 'pandas.core.series.Series'>\n",
      "RangeIndex: 10000 entries, 0 to 9999\n",
      "Series name: CreditScore\n",
      "Non-Null Count  Dtype  \n",
      "--------------  -----  \n",
      "9964 non-null   float64\n",
      "dtypes: float64(1)\n",
      "memory usage: 78.2 KB\n"
     ]
    }
   ],
   "source": [
    "df['CreditScore'].info()"
   ]
  },
  {
   "cell_type": "markdown",
   "id": "ab5002cc",
   "metadata": {},
   "source": [
    "## univariant analysis "
   ]
  },
  {
   "cell_type": "code",
   "execution_count": 25,
   "id": "d3d307cf",
   "metadata": {},
   "outputs": [
    {
     "data": {
      "text/plain": [
       "Index(['CreditScore', 'Geography', 'Gender', 'Age', 'Tenure', 'Balance',\n",
       "       'NumOfProducts', 'HasCrCard', 'IsActiveMember', 'EstimatedSalary',\n",
       "       'Exited'],\n",
       "      dtype='object')"
      ]
     },
     "execution_count": 25,
     "metadata": {},
     "output_type": "execute_result"
    }
   ],
   "source": [
    "df.columns"
   ]
  },
  {
   "cell_type": "code",
   "execution_count": 26,
   "id": "ebbcac0f",
   "metadata": {},
   "outputs": [],
   "source": [
    "num_fet = ['Exited' , 'EstimatedSalary' , 'IsActiveMember' , 'HasCrCard' , 'NumOfProducts' , 'Balance' , 'Tenure' ,'Age' , 'CreditScore']"
   ]
  },
  {
   "cell_type": "markdown",
   "id": "a4603abf",
   "metadata": {},
   "source": [
    "### distripution for each numerical feature"
   ]
  },
  {
   "cell_type": "code",
   "execution_count": 27,
   "id": "cc6cb1a5",
   "metadata": {},
   "outputs": [
    {
     "data": {
      "image/png": "[encoded data removed]",
      "text/plain": [
       "<Figure size 360x360 with 1 Axes>"
      ]
     },
     "metadata": {
      "needs_background": "light"
     },
     "output_type": "display_data"
    },
    {
     "data": {
      "image/png": "[encoded data removed]",
      "text/plain": [
       "<Figure size 500x500 with 1 Axes>"
      ]
     },
     "metadata": {},
     "output_type": "display_data"
    },
    {
     "data": {
      "image/png": "[encoded data removed]",
      "text/plain": [
       "<Figure size 500x500 with 1 Axes>"
      ]
     },
     "metadata": {},
     "output_type": "display_data"
    },
    {
     "data": {
      "image/png": "[encoded data removed]",
      "text/plain": [
       "<Figure size 500x500 with 1 Axes>"
      ]
     },
     "metadata": {},
     "output_type": "display_data"
    },
    {
     "data": {
      "image/png": "[encoded data removed]",
      "text/plain": [
       "<Figure size 500x500 with 1 Axes>"
      ]
     },
     "metadata": {},
     "output_type": "display_data"
    },
    {
     "data": {
      "image/png": "[encoded data removed]",
      "text/plain": [
       "<Figure size 500x500 with 1 Axes>"
      ]
     },
     "metadata": {},
     "output_type": "display_data"
    },
    {
     "data": {
      "image/png": "[encoded data removed]",
      "text/plain": [
       "<Figure size 500x500 with 1 Axes>"
      ]
     },
     "metadata": {},
     "output_type": "display_data"
    },
    {
     "data": {
      "image/png": "[encoded data removed]",
      "text/plain": [
       "<Figure size 500x500 with 1 Axes>"
      ]
     },
     "metadata": {},
     "output_type": "display_data"
    },
    {
     "data": {
      "image/png": "[encoded data removed]",
      "text/plain": [
       "<Figure size 500x500 with 1 Axes>"
      ]
     },
     "metadata": {},
     "output_type": "display_data"
    }
   ],
   "source": [
    "for i in num_fet:\n",
    "    sns.displot(data = df , x=i)"
   ]
  },
  {
   "cell_type": "markdown",
   "id": "6c286ee1",
   "metadata": {},
   "source": [
    "# check outlires "
   ]
  },
  {
   "cell_type": "code",
   "execution_count": 28,
   "id": "467e31fb",
   "metadata": {},
   "outputs": [
    {
     "data": {
      "text/plain": [
       "<AxesSubplot:xlabel='EstimatedSalary'>"
      ]
     },
     "execution_count": 28,
     "metadata": {},
     "output_type": "execute_result"
    },
    {
     "data": {
      "image/png": "[encoded data removed]",
      "text/plain": [
       "<Figure size 640x480 with 1 Axes>"
      ]
     },
     "metadata": {},
     "output_type": "display_data"
    }
   ],
   "source": [
    "sns.boxplot(data = df , x='EstimatedSalary')"
   ]
  },
  {
   "cell_type": "code",
   "execution_count": 29,
   "id": "36a28ad5",
   "metadata": {},
   "outputs": [
    {
     "data": {
      "text/plain": [
       "<AxesSubplot:xlabel='CreditScore'>"
      ]
     },
     "execution_count": 29,
     "metadata": {},
     "output_type": "execute_result"
    },
    {
     "data": {
      "image/png": "[encoded data removed]",
      "text/plain": [
       "<Figure size 640x480 with 1 Axes>"
      ]
     },
     "metadata": {},
     "output_type": "display_data"
    }
   ],
   "source": [
    "sns.boxplot(data = df , x='CreditScore')"
   ]
  },
  {
   "cell_type": "code",
   "execution_count": 30,
   "id": "93c279b6",
   "metadata": {},
   "outputs": [
    {
     "data": {
      "text/plain": [
       "<AxesSubplot:xlabel='Geography', ylabel='count'>"
      ]
     },
     "execution_count": 30,
     "metadata": {},
     "output_type": "execute_result"
    },
    {
     "data": {
      "image/png": "[encoded data removed]",
      "text/plain": [
       "<Figure size 640x480 with 1 Axes>"
      ]
     },
     "metadata": {},
     "output_type": "display_data"
    }
   ],
   "source": [
    "sns.countplot(data = df , x='Geography')"
   ]
  },
  {
   "cell_type": "code",
   "execution_count": 31,
   "id": "53c84b41",
   "metadata": {},
   "outputs": [
    {
     "data": {
      "text/plain": [
       "<AxesSubplot:xlabel='Gender', ylabel='count'>"
      ]
     },
     "execution_count": 31,
     "metadata": {},
     "output_type": "execute_result"
    },
    {
     "data": {
      "image/png": "[encoded data removed]",
      "text/plain": [
       "<Figure size 640x480 with 1 Axes>"
      ]
     },
     "metadata": {},
     "output_type": "display_data"
    }
   ],
   "source": [
    "sns.countplot(data = df , x='Gender')"
   ]
  },
  {
   "cell_type": "code",
   "execution_count": 32,
   "id": "f3c1c91e",
   "metadata": {},
   "outputs": [
    {
     "data": {
      "text/plain": [
       "<AxesSubplot:xlabel='Age'>"
      ]
     },
     "execution_count": 32,
     "metadata": {},
     "output_type": "execute_result"
    },
    {
     "data": {
      "image/png": "[encoded data removed]",
      "text/plain": [
       "<Figure size 640x480 with 1 Axes>"
      ]
     },
     "metadata": {},
     "output_type": "display_data"
    }
   ],
   "source": [
    "sns.boxplot(data = df , x='Age')"
   ]
  },
  {
   "cell_type": "markdown",
   "id": "74a1a9cc",
   "metadata": {},
   "source": [
    "# drop agees more than 80"
   ]
  },
  {
   "cell_type": "code",
   "execution_count": 33,
   "id": "d6fc631a",
   "metadata": {},
   "outputs": [],
   "source": [
    "x=df[df['Age'] > 80].index"
   ]
  },
  {
   "cell_type": "code",
   "execution_count": 34,
   "id": "a8988da8",
   "metadata": {},
   "outputs": [],
   "source": [
    "df.drop(x , axis =0 , inplace=True)"
   ]
  },
  {
   "cell_type": "code",
   "execution_count": 35,
   "id": "6badab01",
   "metadata": {},
   "outputs": [
    {
     "data": {
      "text/plain": [
       "<AxesSubplot:xlabel='Age'>"
      ]
     },
     "execution_count": 35,
     "metadata": {},
     "output_type": "execute_result"
    },
    {
     "data": {
      "image/png": "[encoded data removed]",
      "text/plain": [
       "<Figure size 640x480 with 1 Axes>"
      ]
     },
     "metadata": {},
     "output_type": "display_data"
    }
   ],
   "source": [
    "sns.boxplot(data = df , x='Age')"
   ]
  },
  {
   "cell_type": "code",
   "execution_count": 36,
   "id": "2b28a839",
   "metadata": {},
   "outputs": [
    {
     "data": {
      "image/png": "[encoded data removed]",
      "text/plain": [
       "<Figure size 500x500 with 1 Axes>"
      ]
     },
     "metadata": {},
     "output_type": "display_data"
    }
   ],
   "source": [
    "for i in ['Tenure']:\n",
    "    sns.displot(data = df , x=i) "
   ]
  },
  {
   "cell_type": "code",
   "execution_count": 37,
   "id": "aaca94c4",
   "metadata": {},
   "outputs": [
    {
     "data": {
      "text/plain": [
       "Index(['CreditScore', 'Geography', 'Gender', 'Age', 'Tenure', 'Balance',\n",
       "       'NumOfProducts', 'HasCrCard', 'IsActiveMember', 'EstimatedSalary',\n",
       "       'Exited'],\n",
       "      dtype='object')"
      ]
     },
     "execution_count": 37,
     "metadata": {},
     "output_type": "execute_result"
    }
   ],
   "source": [
    "df.columns"
   ]
  },
  {
   "cell_type": "code",
   "execution_count": 38,
   "id": "a4c91e89",
   "metadata": {},
   "outputs": [
    {
     "data": {
      "text/plain": [
       "<AxesSubplot:xlabel='Balance'>"
      ]
     },
     "execution_count": 38,
     "metadata": {},
     "output_type": "execute_result"
    },
    {
     "data": {
      "image/png": "[encoded data removed]",
      "text/plain": [
       "<Figure size 640x480 with 1 Axes>"
      ]
     },
     "metadata": {},
     "output_type": "display_data"
    }
   ],
   "source": [
    "sns.boxplot(data = df , x='Balance')"
   ]
  },
  {
   "cell_type": "code",
   "execution_count": 39,
   "id": "c998d916",
   "metadata": {},
   "outputs": [
    {
     "data": {
      "text/plain": [
       "count      9988.000000\n",
       "mean      76510.392653\n",
       "std       62399.394235\n",
       "min           0.000000\n",
       "25%           0.000000\n",
       "50%       97245.995000\n",
       "75%      127660.767500\n",
       "max      250898.090000\n",
       "Name: Balance, dtype: float64"
      ]
     },
     "execution_count": 39,
     "metadata": {},
     "output_type": "execute_result"
    }
   ],
   "source": [
    "df['Balance'].describe()"
   ]
  },
  {
   "cell_type": "code",
   "execution_count": 40,
   "id": "93a0b00b",
   "metadata": {},
   "outputs": [
    {
     "data": {
      "text/plain": [
       "<AxesSubplot:xlabel='EstimatedSalary'>"
      ]
     },
     "execution_count": 40,
     "metadata": {},
     "output_type": "execute_result"
    },
    {
     "data": {
      "image/png": "[encoded data removed]",
      "text/plain": [
       "<Figure size 640x480 with 1 Axes>"
      ]
     },
     "metadata": {},
     "output_type": "display_data"
    }
   ],
   "source": [
    "sns.boxplot(data = df , x='EstimatedSalary')"
   ]
  },
  {
   "cell_type": "code",
   "execution_count": 41,
   "id": "dc33fe67",
   "metadata": {
    "scrolled": true
   },
   "outputs": [
    {
     "data": {
      "text/plain": [
       "Index(['CreditScore', 'Geography', 'Gender', 'Age', 'Tenure', 'Balance',\n",
       "       'NumOfProducts', 'HasCrCard', 'IsActiveMember', 'EstimatedSalary',\n",
       "       'Exited'],\n",
       "      dtype='object')"
      ]
     },
     "execution_count": 41,
     "metadata": {},
     "output_type": "execute_result"
    }
   ],
   "source": [
    "df.columns"
   ]
  },
  {
   "cell_type": "markdown",
   "id": "40e553fb",
   "metadata": {},
   "source": [
    "# now we will start making model "
   ]
  },
  {
   "cell_type": "markdown",
   "id": "a9a30893",
   "metadata": {},
   "source": [
    "### Required libraries in sklearn"
   ]
  },
  {
   "cell_type": "code",
   "execution_count": 42,
   "id": "51076458",
   "metadata": {},
   "outputs": [],
   "source": [
    "from sklearn.pipeline import Pipeline\n",
    "from sklearn.impute import SimpleImputer\n",
    "from category_encoders import BinaryEncoder\n",
    "from sklearn.compose import ColumnTransformer\n",
    "from sklearn.impute import KNNImputer\n",
    "from sklearn.preprocessing import StandardScaler\n",
    "from sklearn.linear_model import LogisticRegression\n",
    "from sklearn.model_selection import cross_validate , RepeatedStratifiedKFold\n",
    "from sklearn.preprocessing import PolynomialFeatures\n",
    "from sklearn.neighbors import KNeighborsClassifier\n",
    "from sklearn.linear_model import BayesianRidge"
   ]
  },
  {
   "cell_type": "markdown",
   "id": "028665e5",
   "metadata": {},
   "source": [
    "# we will implement model by Pipeline"
   ]
  },
  {
   "cell_type": "markdown",
   "id": "018d3b38",
   "metadata": {},
   "source": [
    "### data preprocessing"
   ]
  },
  {
   "cell_type": "code",
   "execution_count": 43,
   "id": "0257de4c",
   "metadata": {},
   "outputs": [],
   "source": [
    "categoricl=['Geography' , 'Gender']\n",
    "num = ['CreditScore']"
   ]
  },
  {
   "cell_type": "code",
   "execution_count": 44,
   "id": "e1edf8fd",
   "metadata": {},
   "outputs": [],
   "source": [
    "steps = list()\n",
    "steps.append((\"encoder\" , BinaryEncoder())) #encoding categorical features "
   ]
  },
  {
   "cell_type": "code",
   "execution_count": 45,
   "id": "1fd62314",
   "metadata": {},
   "outputs": [],
   "source": [
    "pipeline = Pipeline(steps=steps)"
   ]
  },
  {
   "cell_type": "code",
   "execution_count": 46,
   "id": "455d5776",
   "metadata": {},
   "outputs": [],
   "source": [
    "col_transformer = ColumnTransformer([( \"categ\",pipeline ,categoricl )] \n",
    "                                    , remainder=\"passthrough\") # transform features "
   ]
  },
  {
   "cell_type": "markdown",
   "id": "d005d84c",
   "metadata": {},
   "source": [
    "### Pipeline"
   ]
  },
  {
   "cell_type": "code",
   "execution_count": 47,
   "id": "5b747b4d",
   "metadata": {},
   "outputs": [],
   "source": [
    "## LogisticRegression better than KNN \n",
    "steps0 = list()\n",
    "steps0.append((\"transformer\" , col_transformer))\n",
    "steps0.append((\"sclaer\" ,StandardScaler()))\n",
    "steps0.append((\"poly\" , PolynomialFeatures(degree=2)))\n",
    "steps0.append((\"model\" , LogisticRegression(max_iter=100000000000)))"
   ]
  },
  {
   "cell_type": "code",
   "execution_count": 48,
   "id": "25d70fe0",
   "metadata": {},
   "outputs": [
    {
     "data": {
      "text/html": [
       "<style>#sk-149fbdd4-0837-4922-a7f1-3fdbcd654aa5 {color: black;background-color: white;}#sk-149fbdd4-0837-4922-a7f1-3fdbcd654aa5 pre{padding: 0;}#sk-149fbdd4-0837-4922-a7f1-3fdbcd654aa5 div.sk-toggleable {background-color: white;}#sk-149fbdd4-0837-4922-a7f1-3fdbcd654aa5 label.sk-toggleable__label {cursor: pointer;display: block;width: 100%;margin-bottom: 0;padding: 0.3em;box-sizing: border-box;text-align: center;}#sk-149fbdd4-0837-4922-a7f1-3fdbcd654aa5 label.sk-toggleable__label-arrow:before {content: \"▸\";float: left;margin-right: 0.25em;color: #696969;}#sk-149fbdd4-0837-4922-a7f1-3fdbcd654aa5 label.sk-toggleable__label-arrow:hover:before {color: black;}#sk-149fbdd4-0837-4922-a7f1-3fdbcd654aa5 div.sk-estimator:hover label.sk-toggleable__label-arrow:before {color: black;}#sk-149fbdd4-0837-4922-a7f1-3fdbcd654aa5 div.sk-toggleable__content {max-height: 0;max-width: 0;overflow: hidden;text-align: left;background-color: #f0f8ff;}#sk-149fbdd4-0837-4922-a7f1-3fdbcd654aa5 div.sk-toggleable__content pre {margin: 0.2em;color: black;border-radius: 0.25em;background-color: #f0f8ff;}#sk-149fbdd4-0837-4922-a7f1-3fdbcd654aa5 input.sk-toggleable__control:checked~div.sk-toggleable__content {max-height: 200px;max-width: 100%;overflow: auto;}#sk-149fbdd4-0837-4922-a7f1-3fdbcd654aa5 input.sk-toggleable__control:checked~label.sk-toggleable__label-arrow:before {content: \"▾\";}#sk-149fbdd4-0837-4922-a7f1-3fdbcd654aa5 div.sk-estimator input.sk-toggleable__control:checked~label.sk-toggleable__label {background-color: #d4ebff;}#sk-149fbdd4-0837-4922-a7f1-3fdbcd654aa5 div.sk-label input.sk-toggleable__control:checked~label.sk-toggleable__label {background-color: #d4ebff;}#sk-149fbdd4-0837-4922-a7f1-3fdbcd654aa5 input.sk-hidden--visually {border: 0;clip: rect(1px 1px 1px 1px);clip: rect(1px, 1px, 1px, 1px);height: 1px;margin: -1px;overflow: hidden;padding: 0;position: absolute;width: 1px;}#sk-149fbdd4-0837-4922-a7f1-3fdbcd654aa5 div.sk-estimator {font-family: monospace;background-color: #f0f8ff;border: 1px dotted black;border-radius: 0.25em;box-sizing: border-box;margin-bottom: 0.5em;}#sk-149fbdd4-0837-4922-a7f1-3fdbcd654aa5 div.sk-estimator:hover {background-color: #d4ebff;}#sk-149fbdd4-0837-4922-a7f1-3fdbcd654aa5 div.sk-parallel-item::after {content: \"\";width: 100%;border-bottom: 1px solid gray;flex-grow: 1;}#sk-149fbdd4-0837-4922-a7f1-3fdbcd654aa5 div.sk-label:hover label.sk-toggleable__label {background-color: #d4ebff;}#sk-149fbdd4-0837-4922-a7f1-3fdbcd654aa5 div.sk-serial::before {content: \"\";position: absolute;border-left: 1px solid gray;box-sizing: border-box;top: 2em;bottom: 0;left: 50%;}#sk-149fbdd4-0837-4922-a7f1-3fdbcd654aa5 div.sk-serial {display: flex;flex-direction: column;align-items: center;background-color: white;padding-right: 0.2em;padding-left: 0.2em;}#sk-149fbdd4-0837-4922-a7f1-3fdbcd654aa5 div.sk-item {z-index: 1;}#sk-149fbdd4-0837-4922-a7f1-3fdbcd654aa5 div.sk-parallel {display: flex;align-items: stretch;justify-content: center;background-color: white;}#sk-149fbdd4-0837-4922-a7f1-3fdbcd654aa5 div.sk-parallel::before {content: \"\";position: absolute;border-left: 1px solid gray;box-sizing: border-box;top: 2em;bottom: 0;left: 50%;}#sk-149fbdd4-0837-4922-a7f1-3fdbcd654aa5 div.sk-parallel-item {display: flex;flex-direction: column;position: relative;background-color: white;}#sk-149fbdd4-0837-4922-a7f1-3fdbcd654aa5 div.sk-parallel-item:first-child::after {align-self: flex-end;width: 50%;}#sk-149fbdd4-0837-4922-a7f1-3fdbcd654aa5 div.sk-parallel-item:last-child::after {align-self: flex-start;width: 50%;}#sk-149fbdd4-0837-4922-a7f1-3fdbcd654aa5 div.sk-parallel-item:only-child::after {width: 0;}#sk-149fbdd4-0837-4922-a7f1-3fdbcd654aa5 div.sk-dashed-wrapped {border: 1px dashed gray;margin: 0 0.4em 0.5em 0.4em;box-sizing: border-box;padding-bottom: 0.4em;background-color: white;position: relative;}#sk-149fbdd4-0837-4922-a7f1-3fdbcd654aa5 div.sk-label label {font-family: monospace;font-weight: bold;background-color: white;display: inline-block;line-height: 1.2em;}#sk-149fbdd4-0837-4922-a7f1-3fdbcd654aa5 div.sk-label-container {position: relative;z-index: 2;text-align: center;}#sk-149fbdd4-0837-4922-a7f1-3fdbcd654aa5 div.sk-container {/* jupyter's `normalize.less` sets `[hidden] { display: none; }` but bootstrap.min.css set `[hidden] { display: none !important; }` so we also need the `!important` here to be able to override the default hidden behavior on the sphinx rendered scikit-learn.org. See: https://github.com/scikit-learn/scikit-learn/issues/21755 */display: inline-block !important;position: relative;}#sk-149fbdd4-0837-4922-a7f1-3fdbcd654aa5 div.sk-text-repr-fallback {display: none;}</style><div id=\"sk-149fbdd4-0837-4922-a7f1-3fdbcd654aa5\" class=\"sk-top-container\"><div class=\"sk-text-repr-fallback\"><pre>Pipeline(steps=[(&#x27;transformer&#x27;,\n",
       "                 ColumnTransformer(remainder=&#x27;passthrough&#x27;,\n",
       "                                   transformers=[(&#x27;categ&#x27;,\n",
       "                                                  Pipeline(steps=[(&#x27;imputer&#x27;,\n",
       "                                                                   SimpleImputer(strategy=&#x27;most_frequent&#x27;)),\n",
       "                                                                  (&#x27;encoder&#x27;,\n",
       "                                                                   BinaryEncoder())]),\n",
       "                                                  [&#x27;Geography&#x27;, &#x27;Gender&#x27;]),\n",
       "                                                 (&#x27;numerical&#x27;, KNNImputer(),\n",
       "                                                  [&#x27;CreditScore&#x27;])])),\n",
       "                (&#x27;sclaer&#x27;, StandardScaler()), (&#x27;poly&#x27;, PolynomialFeatures()),\n",
       "                (&#x27;model&#x27;, LogisticRegression(max_iter=100000000000))])</pre><b>Please rerun this cell to show the HTML repr or trust the notebook.</b></div><div class=\"sk-container\" hidden><div class=\"sk-item sk-dashed-wrapped\"><div class=\"sk-label-container\"><div class=\"sk-label sk-toggleable\"><input class=\"sk-toggleable__control sk-hidden--visually\" id=\"aece2b8e-5e95-40ad-a807-217cecf3d41f\" type=\"checkbox\" ><label for=\"aece2b8e-5e95-40ad-a807-217cecf3d41f\" class=\"sk-toggleable__label sk-toggleable__label-arrow\">Pipeline</label><div class=\"sk-toggleable__content\"><pre>Pipeline(steps=[(&#x27;transformer&#x27;,\n",
       "                 ColumnTransformer(remainder=&#x27;passthrough&#x27;,\n",
       "                                   transformers=[(&#x27;categ&#x27;,\n",
       "                                                  Pipeline(steps=[(&#x27;imputer&#x27;,\n",
       "                                                                   SimpleImputer(strategy=&#x27;most_frequent&#x27;)),\n",
       "                                                                  (&#x27;encoder&#x27;,\n",
       "                                                                   BinaryEncoder())]),\n",
       "                                                  [&#x27;Geography&#x27;, &#x27;Gender&#x27;]),\n",
       "                                                 (&#x27;numerical&#x27;, KNNImputer(),\n",
       "                                                  [&#x27;CreditScore&#x27;])])),\n",
       "                (&#x27;sclaer&#x27;, StandardScaler()), (&#x27;poly&#x27;, PolynomialFeatures()),\n",
       "                (&#x27;model&#x27;, LogisticRegression(max_iter=100000000000))])</pre></div></div></div><div class=\"sk-serial\"><div class=\"sk-item sk-dashed-wrapped\"><div class=\"sk-label-container\"><div class=\"sk-label sk-toggleable\"><input class=\"sk-toggleable__control sk-hidden--visually\" id=\"37ed59d4-ecff-4cc4-9402-bbc285a2cd5b\" type=\"checkbox\" ><label for=\"37ed59d4-ecff-4cc4-9402-bbc285a2cd5b\" class=\"sk-toggleable__label sk-toggleable__label-arrow\">transformer: ColumnTransformer</label><div class=\"sk-toggleable__content\"><pre>ColumnTransformer(remainder=&#x27;passthrough&#x27;,\n",
       "                  transformers=[(&#x27;categ&#x27;,\n",
       "                                 Pipeline(steps=[(&#x27;imputer&#x27;,\n",
       "                                                  SimpleImputer(strategy=&#x27;most_frequent&#x27;)),\n",
       "                                                 (&#x27;encoder&#x27;, BinaryEncoder())]),\n",
       "                                 [&#x27;Geography&#x27;, &#x27;Gender&#x27;]),\n",
       "                                (&#x27;numerical&#x27;, KNNImputer(), [&#x27;CreditScore&#x27;])])</pre></div></div></div><div class=\"sk-parallel\"><div class=\"sk-parallel-item\"><div class=\"sk-item\"><div class=\"sk-label-container\"><div class=\"sk-label sk-toggleable\"><input class=\"sk-toggleable__control sk-hidden--visually\" id=\"1a27d588-8897-414b-8326-e54f2f8809c1\" type=\"checkbox\" ><label for=\"1a27d588-8897-414b-8326-e54f2f8809c1\" class=\"sk-toggleable__label sk-toggleable__label-arrow\">categ</label><div class=\"sk-toggleable__content\"><pre>[&#x27;Geography&#x27;, &#x27;Gender&#x27;]</pre></div></div></div><div class=\"sk-serial\"><div class=\"sk-item\"><div class=\"sk-serial\"><div class=\"sk-item\"><div class=\"sk-estimator sk-toggleable\"><input class=\"sk-toggleable__control sk-hidden--visually\" id=\"0593bc28-9840-4495-acb1-4deaeadcad32\" type=\"checkbox\" ><label for=\"0593bc28-9840-4495-acb1-4deaeadcad32\" class=\"sk-toggleable__label sk-toggleable__label-arrow\">SimpleImputer</label><div class=\"sk-toggleable__content\"><pre>SimpleImputer(strategy=&#x27;most_frequent&#x27;)</pre></div></div></div><div class=\"sk-item\"><div class=\"sk-estimator sk-toggleable\"><input class=\"sk-toggleable__control sk-hidden--visually\" id=\"8086cba7-12a7-404c-84fb-534f80902b2e\" type=\"checkbox\" ><label for=\"8086cba7-12a7-404c-84fb-534f80902b2e\" class=\"sk-toggleable__label sk-toggleable__label-arrow\">BinaryEncoder</label><div class=\"sk-toggleable__content\"><pre>BinaryEncoder()</pre></div></div></div></div></div></div></div></div><div class=\"sk-parallel-item\"><div class=\"sk-item\"><div class=\"sk-label-container\"><div class=\"sk-label sk-toggleable\"><input class=\"sk-toggleable__control sk-hidden--visually\" id=\"78332dc9-5271-4db0-b93d-5cbdc7118369\" type=\"checkbox\" ><label for=\"78332dc9-5271-4db0-b93d-5cbdc7118369\" class=\"sk-toggleable__label sk-toggleable__label-arrow\">numerical</label><div class=\"sk-toggleable__content\"><pre>[&#x27;CreditScore&#x27;]</pre></div></div></div><div class=\"sk-serial\"><div class=\"sk-item\"><div class=\"sk-estimator sk-toggleable\"><input class=\"sk-toggleable__control sk-hidden--visually\" id=\"e63babfd-a85a-4e93-94b2-184a16923e40\" type=\"checkbox\" ><label for=\"e63babfd-a85a-4e93-94b2-184a16923e40\" class=\"sk-toggleable__label sk-toggleable__label-arrow\">KNNImputer</label><div class=\"sk-toggleable__content\"><pre>KNNImputer()</pre></div></div></div></div></div></div><div class=\"sk-parallel-item\"><div class=\"sk-item\"><div class=\"sk-label-container\"><div class=\"sk-label sk-toggleable\"><input class=\"sk-toggleable__control sk-hidden--visually\" id=\"d14bd448-b1d4-4d5b-83ed-5b53682aee47\" type=\"checkbox\" ><label for=\"d14bd448-b1d4-4d5b-83ed-5b53682aee47\" class=\"sk-toggleable__label sk-toggleable__label-arrow\">remainder</label><div class=\"sk-toggleable__content\"><pre></pre></div></div></div><div class=\"sk-serial\"><div class=\"sk-item\"><div class=\"sk-estimator sk-toggleable\"><input class=\"sk-toggleable__control sk-hidden--visually\" id=\"1b9ea751-8660-4be7-abc5-a15c6e999318\" type=\"checkbox\" ><label for=\"1b9ea751-8660-4be7-abc5-a15c6e999318\" class=\"sk-toggleable__label sk-toggleable__label-arrow\">passthrough</label><div class=\"sk-toggleable__content\"><pre>passthrough</pre></div></div></div></div></div></div></div></div><div class=\"sk-item\"><div class=\"sk-estimator sk-toggleable\"><input class=\"sk-toggleable__control sk-hidden--visually\" id=\"7a3ecd20-a698-40a6-8196-aabb3b4a0ea6\" type=\"checkbox\" ><label for=\"7a3ecd20-a698-40a6-8196-aabb3b4a0ea6\" class=\"sk-toggleable__label sk-toggleable__label-arrow\">StandardScaler</label><div class=\"sk-toggleable__content\"><pre>StandardScaler()</pre></div></div></div><div class=\"sk-item\"><div class=\"sk-estimator sk-toggleable\"><input class=\"sk-toggleable__control sk-hidden--visually\" id=\"c3e259f0-1ca1-424d-ba6c-dad2a7991227\" type=\"checkbox\" ><label for=\"c3e259f0-1ca1-424d-ba6c-dad2a7991227\" class=\"sk-toggleable__label sk-toggleable__label-arrow\">PolynomialFeatures</label><div class=\"sk-toggleable__content\"><pre>PolynomialFeatures()</pre></div></div></div><div class=\"sk-item\"><div class=\"sk-estimator sk-toggleable\"><input class=\"sk-toggleable__control sk-hidden--visually\" id=\"ee900dc9-c62c-4e66-9126-5d10171fc018\" type=\"checkbox\" ><label for=\"ee900dc9-c62c-4e66-9126-5d10171fc018\" class=\"sk-toggleable__label sk-toggleable__label-arrow\">LogisticRegression</label><div class=\"sk-toggleable__content\"><pre>LogisticRegression(max_iter=100000000000)</pre></div></div></div></div></div></div></div>"
      ],
      "text/plain": [
       "Pipeline(steps=[('transformer',\n",
       "                 ColumnTransformer(remainder='passthrough',\n",
       "                                   transformers=[('categ',\n",
       "                                                  Pipeline(steps=[('imputer',\n",
       "                                                                   SimpleImputer(strategy='most_frequent')),\n",
       "                                                                  ('encoder',\n",
       "                                                                   BinaryEncoder())]),\n",
       "                                                  ['Geography', 'Gender']),\n",
       "                                                 ('numerical', KNNImputer(),\n",
       "                                                  ['CreditScore'])])),\n",
       "                ('sclaer', StandardScaler()), ('poly', PolynomialFeatures()),\n",
       "                ('model', LogisticRegression(max_iter=100000000000))])"
      ]
     },
     "execution_count": 48,
     "metadata": {},
     "output_type": "execute_result"
    }
   ],
   "source": [
    "from sklearn import set_config\n",
    "set_config(display=\"diagram\")\n",
    "big_one = Pipeline(steps=steps0)\n",
    "big_one"
   ]
  },
  {
   "cell_type": "code",
   "execution_count": 49,
   "id": "bad13bf3",
   "metadata": {},
   "outputs": [],
   "source": [
    "x=df.drop('Exited',axis=1)\n",
    "y=df['Exited']"
   ]
  },
  {
   "cell_type": "code",
   "execution_count": 50,
   "id": "6e5d9216",
   "metadata": {},
   "outputs": [],
   "source": [
    "cv = RepeatedStratifiedKFold(n_splits=10 , n_repeats=3 , random_state=1)"
   ]
  },
  {
   "cell_type": "code",
   "execution_count": 51,
   "id": "e4ca0d91",
   "metadata": {},
   "outputs": [
    {
     "name": "stderr",
     "output_type": "stream",
     "text": [
      "D:\\anaconda\\envs\\epsilon_eslam\\lib\\site-packages\\category_encoders\\utils.py:21: FutureWarning: is_categorical is deprecated and will be removed in a future version. Use is_categorical_dtype instead.\n",
      "  elif pd.api.types.is_categorical(cols):\n",
      "D:\\anaconda\\envs\\epsilon_eslam\\lib\\site-packages\\category_encoders\\utils.py:21: FutureWarning: is_categorical is deprecated and will be removed in a future version. Use is_categorical_dtype instead.\n",
      "  elif pd.api.types.is_categorical(cols):\n",
      "D:\\anaconda\\envs\\epsilon_eslam\\lib\\site-packages\\category_encoders\\utils.py:21: FutureWarning: is_categorical is deprecated and will be removed in a future version. Use is_categorical_dtype instead.\n",
      "  elif pd.api.types.is_categorical(cols):\n",
      "D:\\anaconda\\envs\\epsilon_eslam\\lib\\site-packages\\category_encoders\\utils.py:21: FutureWarning: is_categorical is deprecated and will be removed in a future version. Use is_categorical_dtype instead.\n",
      "  elif pd.api.types.is_categorical(cols):\n",
      "D:\\anaconda\\envs\\epsilon_eslam\\lib\\site-packages\\category_encoders\\utils.py:21: FutureWarning: is_categorical is deprecated and will be removed in a future version. Use is_categorical_dtype instead.\n",
      "  elif pd.api.types.is_categorical(cols):\n",
      "D:\\anaconda\\envs\\epsilon_eslam\\lib\\site-packages\\category_encoders\\utils.py:21: FutureWarning: is_categorical is deprecated and will be removed in a future version. Use is_categorical_dtype instead.\n",
      "  elif pd.api.types.is_categorical(cols):\n",
      "D:\\anaconda\\envs\\epsilon_eslam\\lib\\site-packages\\category_encoders\\utils.py:21: FutureWarning: is_categorical is deprecated and will be removed in a future version. Use is_categorical_dtype instead.\n",
      "  elif pd.api.types.is_categorical(cols):\n",
      "D:\\anaconda\\envs\\epsilon_eslam\\lib\\site-packages\\category_encoders\\utils.py:21: FutureWarning: is_categorical is deprecated and will be removed in a future version. Use is_categorical_dtype instead.\n",
      "  elif pd.api.types.is_categorical(cols):\n",
      "D:\\anaconda\\envs\\epsilon_eslam\\lib\\site-packages\\category_encoders\\utils.py:21: FutureWarning: is_categorical is deprecated and will be removed in a future version. Use is_categorical_dtype instead.\n",
      "  elif pd.api.types.is_categorical(cols):\n",
      "D:\\anaconda\\envs\\epsilon_eslam\\lib\\site-packages\\category_encoders\\utils.py:21: FutureWarning: is_categorical is deprecated and will be removed in a future version. Use is_categorical_dtype instead.\n",
      "  elif pd.api.types.is_categorical(cols):\n",
      "D:\\anaconda\\envs\\epsilon_eslam\\lib\\site-packages\\category_encoders\\utils.py:21: FutureWarning: is_categorical is deprecated and will be removed in a future version. Use is_categorical_dtype instead.\n",
      "  elif pd.api.types.is_categorical(cols):\n",
      "D:\\anaconda\\envs\\epsilon_eslam\\lib\\site-packages\\category_encoders\\utils.py:21: FutureWarning: is_categorical is deprecated and will be removed in a future version. Use is_categorical_dtype instead.\n",
      "  elif pd.api.types.is_categorical(cols):\n",
      "D:\\anaconda\\envs\\epsilon_eslam\\lib\\site-packages\\category_encoders\\utils.py:21: FutureWarning: is_categorical is deprecated and will be removed in a future version. Use is_categorical_dtype instead.\n",
      "  elif pd.api.types.is_categorical(cols):\n",
      "D:\\anaconda\\envs\\epsilon_eslam\\lib\\site-packages\\category_encoders\\utils.py:21: FutureWarning: is_categorical is deprecated and will be removed in a future version. Use is_categorical_dtype instead.\n",
      "  elif pd.api.types.is_categorical(cols):\n",
      "D:\\anaconda\\envs\\epsilon_eslam\\lib\\site-packages\\category_encoders\\utils.py:21: FutureWarning: is_categorical is deprecated and will be removed in a future version. Use is_categorical_dtype instead.\n",
      "  elif pd.api.types.is_categorical(cols):\n",
      "D:\\anaconda\\envs\\epsilon_eslam\\lib\\site-packages\\category_encoders\\utils.py:21: FutureWarning: is_categorical is deprecated and will be removed in a future version. Use is_categorical_dtype instead.\n",
      "  elif pd.api.types.is_categorical(cols):\n",
      "D:\\anaconda\\envs\\epsilon_eslam\\lib\\site-packages\\category_encoders\\utils.py:21: FutureWarning: is_categorical is deprecated and will be removed in a future version. Use is_categorical_dtype instead.\n",
      "  elif pd.api.types.is_categorical(cols):\n",
      "D:\\anaconda\\envs\\epsilon_eslam\\lib\\site-packages\\category_encoders\\utils.py:21: FutureWarning: is_categorical is deprecated and will be removed in a future version. Use is_categorical_dtype instead.\n",
      "  elif pd.api.types.is_categorical(cols):\n",
      "D:\\anaconda\\envs\\epsilon_eslam\\lib\\site-packages\\category_encoders\\utils.py:21: FutureWarning: is_categorical is deprecated and will be removed in a future version. Use is_categorical_dtype instead.\n",
      "  elif pd.api.types.is_categorical(cols):\n",
      "D:\\anaconda\\envs\\epsilon_eslam\\lib\\site-packages\\category_encoders\\utils.py:21: FutureWarning: is_categorical is deprecated and will be removed in a future version. Use is_categorical_dtype instead.\n",
      "  elif pd.api.types.is_categorical(cols):\n",
      "D:\\anaconda\\envs\\epsilon_eslam\\lib\\site-packages\\category_encoders\\utils.py:21: FutureWarning: is_categorical is deprecated and will be removed in a future version. Use is_categorical_dtype instead.\n",
      "  elif pd.api.types.is_categorical(cols):\n",
      "D:\\anaconda\\envs\\epsilon_eslam\\lib\\site-packages\\category_encoders\\utils.py:21: FutureWarning: is_categorical is deprecated and will be removed in a future version. Use is_categorical_dtype instead.\n",
      "  elif pd.api.types.is_categorical(cols):\n",
      "D:\\anaconda\\envs\\epsilon_eslam\\lib\\site-packages\\category_encoders\\utils.py:21: FutureWarning: is_categorical is deprecated and will be removed in a future version. Use is_categorical_dtype instead.\n",
      "  elif pd.api.types.is_categorical(cols):\n",
      "D:\\anaconda\\envs\\epsilon_eslam\\lib\\site-packages\\category_encoders\\utils.py:21: FutureWarning: is_categorical is deprecated and will be removed in a future version. Use is_categorical_dtype instead.\n",
      "  elif pd.api.types.is_categorical(cols):\n",
      "D:\\anaconda\\envs\\epsilon_eslam\\lib\\site-packages\\category_encoders\\utils.py:21: FutureWarning: is_categorical is deprecated and will be removed in a future version. Use is_categorical_dtype instead.\n",
      "  elif pd.api.types.is_categorical(cols):\n",
      "D:\\anaconda\\envs\\epsilon_eslam\\lib\\site-packages\\category_encoders\\utils.py:21: FutureWarning: is_categorical is deprecated and will be removed in a future version. Use is_categorical_dtype instead.\n",
      "  elif pd.api.types.is_categorical(cols):\n",
      "D:\\anaconda\\envs\\epsilon_eslam\\lib\\site-packages\\category_encoders\\utils.py:21: FutureWarning: is_categorical is deprecated and will be removed in a future version. Use is_categorical_dtype instead.\n",
      "  elif pd.api.types.is_categorical(cols):\n",
      "D:\\anaconda\\envs\\epsilon_eslam\\lib\\site-packages\\category_encoders\\utils.py:21: FutureWarning: is_categorical is deprecated and will be removed in a future version. Use is_categorical_dtype instead.\n",
      "  elif pd.api.types.is_categorical(cols):\n",
      "D:\\anaconda\\envs\\epsilon_eslam\\lib\\site-packages\\category_encoders\\utils.py:21: FutureWarning: is_categorical is deprecated and will be removed in a future version. Use is_categorical_dtype instead.\n",
      "  elif pd.api.types.is_categorical(cols):\n",
      "D:\\anaconda\\envs\\epsilon_eslam\\lib\\site-packages\\category_encoders\\utils.py:21: FutureWarning: is_categorical is deprecated and will be removed in a future version. Use is_categorical_dtype instead.\n",
      "  elif pd.api.types.is_categorical(cols):\n"
     ]
    }
   ],
   "source": [
    "scores = cross_validate(big_one,x,y,cv = cv,scoring=\"accuracy\",return_train_score=True )"
   ]
  },
  {
   "cell_type": "markdown",
   "id": "68f84897",
   "metadata": {},
   "source": [
    "# Evaluating Model Performance"
   ]
  },
  {
   "cell_type": "code",
   "execution_count": 52,
   "id": "c5831b37",
   "metadata": {},
   "outputs": [
    {
     "data": {
      "text/plain": [
       "0.8605215281248665"
      ]
     },
     "execution_count": 52,
     "metadata": {},
     "output_type": "execute_result"
    }
   ],
   "source": [
    "scores['train_score'].mean()"
   ]
  },
  {
   "cell_type": "code",
   "execution_count": 53,
   "id": "02be3288",
   "metadata": {},
   "outputs": [
    {
     "data": {
      "text/plain": [
       "0.8571298753663483"
      ]
     },
     "execution_count": 53,
     "metadata": {},
     "output_type": "execute_result"
    }
   ],
   "source": [
    "scores['test_score'].mean()"
   ]
  },
  {
   "cell_type": "markdown",
   "id": "6906f08b",
   "metadata": {},
   "source": [
    "# fit the model"
   ]
  },
  {
   "cell_type": "code",
   "execution_count": 54,
   "id": "d7748292",
   "metadata": {},
   "outputs": [
    {
     "name": "stderr",
     "output_type": "stream",
     "text": [
      "D:\\anaconda\\envs\\epsilon_eslam\\lib\\site-packages\\category_encoders\\utils.py:21: FutureWarning: is_categorical is deprecated and will be removed in a future version. Use is_categorical_dtype instead.\n",
      "  elif pd.api.types.is_categorical(cols):\n"
     ]
    },
    {
     "data": {
      "text/html": [
       "<style>#sk-2134409a-4864-4466-bf46-b2068eed0d79 {color: black;background-color: white;}#sk-2134409a-4864-4466-bf46-b2068eed0d79 pre{padding: 0;}#sk-2134409a-4864-4466-bf46-b2068eed0d79 div.sk-toggleable {background-color: white;}#sk-2134409a-4864-4466-bf46-b2068eed0d79 label.sk-toggleable__label {cursor: pointer;display: block;width: 100%;margin-bottom: 0;padding: 0.3em;box-sizing: border-box;text-align: center;}#sk-2134409a-4864-4466-bf46-b2068eed0d79 label.sk-toggleable__label-arrow:before {content: \"▸\";float: left;margin-right: 0.25em;color: #696969;}#sk-2134409a-4864-4466-bf46-b2068eed0d79 label.sk-toggleable__label-arrow:hover:before {color: black;}#sk-2134409a-4864-4466-bf46-b2068eed0d79 div.sk-estimator:hover label.sk-toggleable__label-arrow:before {color: black;}#sk-2134409a-4864-4466-bf46-b2068eed0d79 div.sk-toggleable__content {max-height: 0;max-width: 0;overflow: hidden;text-align: left;background-color: #f0f8ff;}#sk-2134409a-4864-4466-bf46-b2068eed0d79 div.sk-toggleable__content pre {margin: 0.2em;color: black;border-radius: 0.25em;background-color: #f0f8ff;}#sk-2134409a-4864-4466-bf46-b2068eed0d79 input.sk-toggleable__control:checked~div.sk-toggleable__content {max-height: 200px;max-width: 100%;overflow: auto;}#sk-2134409a-4864-4466-bf46-b2068eed0d79 input.sk-toggleable__control:checked~label.sk-toggleable__label-arrow:before {content: \"▾\";}#sk-2134409a-4864-4466-bf46-b2068eed0d79 div.sk-estimator input.sk-toggleable__control:checked~label.sk-toggleable__label {background-color: #d4ebff;}#sk-2134409a-4864-4466-bf46-b2068eed0d79 div.sk-label input.sk-toggleable__control:checked~label.sk-toggleable__label {background-color: #d4ebff;}#sk-2134409a-4864-4466-bf46-b2068eed0d79 input.sk-hidden--visually {border: 0;clip: rect(1px 1px 1px 1px);clip: rect(1px, 1px, 1px, 1px);height: 1px;margin: -1px;overflow: hidden;padding: 0;position: absolute;width: 1px;}#sk-2134409a-4864-4466-bf46-b2068eed0d79 div.sk-estimator {font-family: monospace;background-color: #f0f8ff;border: 1px dotted black;border-radius: 0.25em;box-sizing: border-box;margin-bottom: 0.5em;}#sk-2134409a-4864-4466-bf46-b2068eed0d79 div.sk-estimator:hover {background-color: #d4ebff;}#sk-2134409a-4864-4466-bf46-b2068eed0d79 div.sk-parallel-item::after {content: \"\";width: 100%;border-bottom: 1px solid gray;flex-grow: 1;}#sk-2134409a-4864-4466-bf46-b2068eed0d79 div.sk-label:hover label.sk-toggleable__label {background-color: #d4ebff;}#sk-2134409a-4864-4466-bf46-b2068eed0d79 div.sk-serial::before {content: \"\";position: absolute;border-left: 1px solid gray;box-sizing: border-box;top: 2em;bottom: 0;left: 50%;}#sk-2134409a-4864-4466-bf46-b2068eed0d79 div.sk-serial {display: flex;flex-direction: column;align-items: center;background-color: white;padding-right: 0.2em;padding-left: 0.2em;}#sk-2134409a-4864-4466-bf46-b2068eed0d79 div.sk-item {z-index: 1;}#sk-2134409a-4864-4466-bf46-b2068eed0d79 div.sk-parallel {display: flex;align-items: stretch;justify-content: center;background-color: white;}#sk-2134409a-4864-4466-bf46-b2068eed0d79 div.sk-parallel::before {content: \"\";position: absolute;border-left: 1px solid gray;box-sizing: border-box;top: 2em;bottom: 0;left: 50%;}#sk-2134409a-4864-4466-bf46-b2068eed0d79 div.sk-parallel-item {display: flex;flex-direction: column;position: relative;background-color: white;}#sk-2134409a-4864-4466-bf46-b2068eed0d79 div.sk-parallel-item:first-child::after {align-self: flex-end;width: 50%;}#sk-2134409a-4864-4466-bf46-b2068eed0d79 div.sk-parallel-item:last-child::after {align-self: flex-start;width: 50%;}#sk-2134409a-4864-4466-bf46-b2068eed0d79 div.sk-parallel-item:only-child::after {width: 0;}#sk-2134409a-4864-4466-bf46-b2068eed0d79 div.sk-dashed-wrapped {border: 1px dashed gray;margin: 0 0.4em 0.5em 0.4em;box-sizing: border-box;padding-bottom: 0.4em;background-color: white;position: relative;}#sk-2134409a-4864-4466-bf46-b2068eed0d79 div.sk-label label {font-family: monospace;font-weight: bold;background-color: white;display: inline-block;line-height: 1.2em;}#sk-2134409a-4864-4466-bf46-b2068eed0d79 div.sk-label-container {position: relative;z-index: 2;text-align: center;}#sk-2134409a-4864-4466-bf46-b2068eed0d79 div.sk-container {/* jupyter's `normalize.less` sets `[hidden] { display: none; }` but bootstrap.min.css set `[hidden] { display: none !important; }` so we also need the `!important` here to be able to override the default hidden behavior on the sphinx rendered scikit-learn.org. See: https://github.com/scikit-learn/scikit-learn/issues/21755 */display: inline-block !important;position: relative;}#sk-2134409a-4864-4466-bf46-b2068eed0d79 div.sk-text-repr-fallback {display: none;}</style><div id=\"sk-2134409a-4864-4466-bf46-b2068eed0d79\" class=\"sk-top-container\"><div class=\"sk-text-repr-fallback\"><pre>Pipeline(steps=[(&#x27;transformer&#x27;,\n",
       "                 ColumnTransformer(remainder=&#x27;passthrough&#x27;,\n",
       "                                   transformers=[(&#x27;categ&#x27;,\n",
       "                                                  Pipeline(steps=[(&#x27;imputer&#x27;,\n",
       "                                                                   SimpleImputer(strategy=&#x27;most_frequent&#x27;)),\n",
       "                                                                  (&#x27;encoder&#x27;,\n",
       "                                                                   BinaryEncoder())]),\n",
       "                                                  [&#x27;Geography&#x27;, &#x27;Gender&#x27;]),\n",
       "                                                 (&#x27;numerical&#x27;, KNNImputer(),\n",
       "                                                  [&#x27;CreditScore&#x27;])])),\n",
       "                (&#x27;sclaer&#x27;, StandardScaler()), (&#x27;poly&#x27;, PolynomialFeatures()),\n",
       "                (&#x27;model&#x27;, LogisticRegression(max_iter=100000000000))])</pre><b>Please rerun this cell to show the HTML repr or trust the notebook.</b></div><div class=\"sk-container\" hidden><div class=\"sk-item sk-dashed-wrapped\"><div class=\"sk-label-container\"><div class=\"sk-label sk-toggleable\"><input class=\"sk-toggleable__control sk-hidden--visually\" id=\"601933cb-af44-4571-8772-64c55d81652c\" type=\"checkbox\" ><label for=\"601933cb-af44-4571-8772-64c55d81652c\" class=\"sk-toggleable__label sk-toggleable__label-arrow\">Pipeline</label><div class=\"sk-toggleable__content\"><pre>Pipeline(steps=[(&#x27;transformer&#x27;,\n",
       "                 ColumnTransformer(remainder=&#x27;passthrough&#x27;,\n",
       "                                   transformers=[(&#x27;categ&#x27;,\n",
       "                                                  Pipeline(steps=[(&#x27;imputer&#x27;,\n",
       "                                                                   SimpleImputer(strategy=&#x27;most_frequent&#x27;)),\n",
       "                                                                  (&#x27;encoder&#x27;,\n",
       "                                                                   BinaryEncoder())]),\n",
       "                                                  [&#x27;Geography&#x27;, &#x27;Gender&#x27;]),\n",
       "                                                 (&#x27;numerical&#x27;, KNNImputer(),\n",
       "                                                  [&#x27;CreditScore&#x27;])])),\n",
       "                (&#x27;sclaer&#x27;, StandardScaler()), (&#x27;poly&#x27;, PolynomialFeatures()),\n",
       "                (&#x27;model&#x27;, LogisticRegression(max_iter=100000000000))])</pre></div></div></div><div class=\"sk-serial\"><div class=\"sk-item sk-dashed-wrapped\"><div class=\"sk-label-container\"><div class=\"sk-label sk-toggleable\"><input class=\"sk-toggleable__control sk-hidden--visually\" id=\"0d653848-d6ec-4a21-9a8f-10de0e45c4a5\" type=\"checkbox\" ><label for=\"0d653848-d6ec-4a21-9a8f-10de0e45c4a5\" class=\"sk-toggleable__label sk-toggleable__label-arrow\">transformer: ColumnTransformer</label><div class=\"sk-toggleable__content\"><pre>ColumnTransformer(remainder=&#x27;passthrough&#x27;,\n",
       "                  transformers=[(&#x27;categ&#x27;,\n",
       "                                 Pipeline(steps=[(&#x27;imputer&#x27;,\n",
       "                                                  SimpleImputer(strategy=&#x27;most_frequent&#x27;)),\n",
       "                                                 (&#x27;encoder&#x27;, BinaryEncoder())]),\n",
       "                                 [&#x27;Geography&#x27;, &#x27;Gender&#x27;]),\n",
       "                                (&#x27;numerical&#x27;, KNNImputer(), [&#x27;CreditScore&#x27;])])</pre></div></div></div><div class=\"sk-parallel\"><div class=\"sk-parallel-item\"><div class=\"sk-item\"><div class=\"sk-label-container\"><div class=\"sk-label sk-toggleable\"><input class=\"sk-toggleable__control sk-hidden--visually\" id=\"736001fa-c652-4aa2-9007-e4160708588e\" type=\"checkbox\" ><label for=\"736001fa-c652-4aa2-9007-e4160708588e\" class=\"sk-toggleable__label sk-toggleable__label-arrow\">categ</label><div class=\"sk-toggleable__content\"><pre>[&#x27;Geography&#x27;, &#x27;Gender&#x27;]</pre></div></div></div><div class=\"sk-serial\"><div class=\"sk-item\"><div class=\"sk-serial\"><div class=\"sk-item\"><div class=\"sk-estimator sk-toggleable\"><input class=\"sk-toggleable__control sk-hidden--visually\" id=\"da889f11-1958-4bf6-96b4-1cac94ee2998\" type=\"checkbox\" ><label for=\"da889f11-1958-4bf6-96b4-1cac94ee2998\" class=\"sk-toggleable__label sk-toggleable__label-arrow\">SimpleImputer</label><div class=\"sk-toggleable__content\"><pre>SimpleImputer(strategy=&#x27;most_frequent&#x27;)</pre></div></div></div><div class=\"sk-item\"><div class=\"sk-estimator sk-toggleable\"><input class=\"sk-toggleable__control sk-hidden--visually\" id=\"8e7d6ac7-eabf-431d-9f8d-9bfa21bf1b5d\" type=\"checkbox\" ><label for=\"8e7d6ac7-eabf-431d-9f8d-9bfa21bf1b5d\" class=\"sk-toggleable__label sk-toggleable__label-arrow\">BinaryEncoder</label><div class=\"sk-toggleable__content\"><pre>BinaryEncoder()</pre></div></div></div></div></div></div></div></div><div class=\"sk-parallel-item\"><div class=\"sk-item\"><div class=\"sk-label-container\"><div class=\"sk-label sk-toggleable\"><input class=\"sk-toggleable__control sk-hidden--visually\" id=\"b85a7465-886b-480a-b9cf-d3da2a7ec96a\" type=\"checkbox\" ><label for=\"b85a7465-886b-480a-b9cf-d3da2a7ec96a\" class=\"sk-toggleable__label sk-toggleable__label-arrow\">numerical</label><div class=\"sk-toggleable__content\"><pre>[&#x27;CreditScore&#x27;]</pre></div></div></div><div class=\"sk-serial\"><div class=\"sk-item\"><div class=\"sk-estimator sk-toggleable\"><input class=\"sk-toggleable__control sk-hidden--visually\" id=\"c4312021-66e4-43c9-b1be-dc381e9fc85e\" type=\"checkbox\" ><label for=\"c4312021-66e4-43c9-b1be-dc381e9fc85e\" class=\"sk-toggleable__label sk-toggleable__label-arrow\">KNNImputer</label><div class=\"sk-toggleable__content\"><pre>KNNImputer()</pre></div></div></div></div></div></div><div class=\"sk-parallel-item\"><div class=\"sk-item\"><div class=\"sk-label-container\"><div class=\"sk-label sk-toggleable\"><input class=\"sk-toggleable__control sk-hidden--visually\" id=\"2d233f96-1a4d-4eca-9a4b-dac7d9c7d590\" type=\"checkbox\" ><label for=\"2d233f96-1a4d-4eca-9a4b-dac7d9c7d590\" class=\"sk-toggleable__label sk-toggleable__label-arrow\">remainder</label><div class=\"sk-toggleable__content\"><pre>[&#x27;Age&#x27;, &#x27;Tenure&#x27;, &#x27;Balance&#x27;, &#x27;NumOfProducts&#x27;, &#x27;HasCrCard&#x27;, &#x27;IsActiveMember&#x27;, &#x27;EstimatedSalary&#x27;]</pre></div></div></div><div class=\"sk-serial\"><div class=\"sk-item\"><div class=\"sk-estimator sk-toggleable\"><input class=\"sk-toggleable__control sk-hidden--visually\" id=\"99b7c11e-e875-448b-949b-916bf4d4a099\" type=\"checkbox\" ><label for=\"99b7c11e-e875-448b-949b-916bf4d4a099\" class=\"sk-toggleable__label sk-toggleable__label-arrow\">passthrough</label><div class=\"sk-toggleable__content\"><pre>passthrough</pre></div></div></div></div></div></div></div></div><div class=\"sk-item\"><div class=\"sk-estimator sk-toggleable\"><input class=\"sk-toggleable__control sk-hidden--visually\" id=\"320e268e-65f0-4713-8b03-47853412caf0\" type=\"checkbox\" ><label for=\"320e268e-65f0-4713-8b03-47853412caf0\" class=\"sk-toggleable__label sk-toggleable__label-arrow\">StandardScaler</label><div class=\"sk-toggleable__content\"><pre>StandardScaler()</pre></div></div></div><div class=\"sk-item\"><div class=\"sk-estimator sk-toggleable\"><input class=\"sk-toggleable__control sk-hidden--visually\" id=\"115f9f86-69f8-42e7-b1f5-7171f2e306c3\" type=\"checkbox\" ><label for=\"115f9f86-69f8-42e7-b1f5-7171f2e306c3\" class=\"sk-toggleable__label sk-toggleable__label-arrow\">PolynomialFeatures</label><div class=\"sk-toggleable__content\"><pre>PolynomialFeatures()</pre></div></div></div><div class=\"sk-item\"><div class=\"sk-estimator sk-toggleable\"><input class=\"sk-toggleable__control sk-hidden--visually\" id=\"f5ea0384-fcee-49f5-84ce-81b25df23c02\" type=\"checkbox\" ><label for=\"f5ea0384-fcee-49f5-84ce-81b25df23c02\" class=\"sk-toggleable__label sk-toggleable__label-arrow\">LogisticRegression</label><div class=\"sk-toggleable__content\"><pre>LogisticRegression(max_iter=100000000000)</pre></div></div></div></div></div></div></div>"
      ],
      "text/plain": [
       "Pipeline(steps=[('transformer',\n",
       "                 ColumnTransformer(remainder='passthrough',\n",
       "                                   transformers=[('categ',\n",
       "                                                  Pipeline(steps=[('imputer',\n",
       "                                                                   SimpleImputer(strategy='most_frequent')),\n",
       "                                                                  ('encoder',\n",
       "                                                                   BinaryEncoder())]),\n",
       "                                                  ['Geography', 'Gender']),\n",
       "                                                 ('numerical', KNNImputer(),\n",
       "                                                  ['CreditScore'])])),\n",
       "                ('sclaer', StandardScaler()), ('poly', PolynomialFeatures()),\n",
       "                ('model', LogisticRegression(max_iter=100000000000))])"
      ]
     },
     "execution_count": 54,
     "metadata": {},
     "output_type": "execute_result"
    }
   ],
   "source": [
    "big_one.fit(x,y)"
   ]
  },
  {
   "cell_type": "markdown",
   "id": "8627c064",
   "metadata": {},
   "source": [
    "# save the model "
   ]
  },
  {
   "cell_type": "code",
   "execution_count": 55,
   "id": "7e1db183",
   "metadata": {},
   "outputs": [],
   "source": [
    "import joblib"
   ]
  },
  {
   "cell_type": "code",
   "execution_count": 56,
   "id": "04157ee9",
   "metadata": {},
   "outputs": [
    {
     "data": {
      "text/plain": [
       "['input.h5']"
      ]
     },
     "execution_count": 56,
     "metadata": {},
     "output_type": "execute_result"
    }
   ],
   "source": [
    "joblib.dump(big_one , \"banking.h5\")\n",
    "joblib.dump(x.columns,\"input.h5\")"
   ]
  },
  {
   "cell_type": "markdown",
   "id": "9a661a23",
   "metadata": {},
   "source": [
    "# depoly model by streamlit "
   ]
  },
  {
   "cell_type": "code",
   "execution_count": 3,
   "id": "9a4a2870",
   "metadata": {},
   "outputs": [
    {
     "name": "stdout",
     "output_type": "stream",
     "text": [
      "Overwriting Bankingclassfier.py\n"
     ]
    }
   ],
   "source": [
    "%%writefile Bankingclassfier.py\n",
    "\n",
    "\n",
    "import pandas as pd \n",
    "import joblib\n",
    "import streamlit as st\n",
    "\n",
    "\n",
    "model = joblib.load('banking.h5')\n",
    "inputs = joblib.load('input.h5')\n",
    "\n",
    "\n",
    "def predict (CreditScore, Geography, Gender, Age, Tenure, Balance ,NumOfProducts , HasCrCard , IsActiveMember ,EstimatedSalary ):\n",
    "    test_dataframe = pd.DataFrame(columns=inputs)\n",
    "    test_dataframe.at[0, 'CreditScore'] = CreditScore\n",
    "    test_dataframe.at[0, 'Geography'] =Geography\n",
    "    test_dataframe.at[0, 'Gender'] =Gender\n",
    "    test_dataframe.at[0, 'Age']=Age\n",
    "    test_dataframe.at[0, 'Tenure']=Tenure\n",
    "    test_dataframe.at[0,'Balance'] =Balance \n",
    "    test_dataframe.at[0,'NumOfProducts'] =NumOfProducts \n",
    "    test_dataframe.at[0,'HasCrCard'] = HasCrCard\n",
    "    test_dataframe.at[0,'IsActiveMember'] = IsActiveMember\n",
    "    test_dataframe.at[0,'EstimatedSalary'] =EstimatedSalary\n",
    "    results = model.predict(test_dataframe)[0]\n",
    "    return results\n",
    "\n",
    "def main ():\n",
    "    st.title(\"welcome to banking classfier project\")\n",
    "    CreditScore = st.slider('CreditScore' , min_value=350.000000 , max_value=850.000000 , value=400.000000 , step=20.000000)\n",
    "    Geography = st.selectbox(\"Geography\" ,['France', 'Germany', 'Spain'])\n",
    "    Gender = st.selectbox('Gender' , ['Male' , 'Female'])\n",
    "    Age = st.slider('Age' , min_value=18 , max_value=80 , value=20 , step=1)\n",
    "    Tenure = st.slider('Tenure' , min_value=1.0 , max_value=8.0 , value=2.0 , step=0.5)\n",
    "    Balance = st.slider('Balance' , min_value=0 , max_value=250000 , value= 50000 , step=2000)\n",
    "    NumOfProducts = st.slider('NumOfProducts' , min_value=1 , max_value=5 , value=1 , step=1)\n",
    "    HasCrCard = st.selectbox('HasCrCard' , [0 , 1])\n",
    "    IsActiveMember = st.selectbox('IsActiveMember' , [0 , 1])\n",
    "    EstimatedSalary = st.slider('EstimatedSalary' , min_value= 11.0 , max_value=199992.480000 , value = 20000.0 , step=200.0)\n",
    "    \n",
    "    \n",
    "    if st.button('predict'):\n",
    "        ans = predict(CreditScore, Geography, Gender, Age, Tenure, Balance ,NumOfProducts , HasCrCard , IsActiveMember ,EstimatedSalary )\n",
    "        if ans == 0 :\n",
    "            st.write(\"you are exited\")\n",
    "        else :\n",
    "            st.write(\"you are not exited\")\n",
    "main() "
   ]
  },
  {
   "cell_type": "code",
   "execution_count": 4,
   "id": "24641113",
   "metadata": {},
   "outputs": [
    {
     "name": "stdout",
     "output_type": "stream",
     "text": [
      "^C\n"
     ]
    }
   ],
   "source": [
    "!streamlit run Bankingclassfier.py"
   ]
  },
  {
   "cell_type": "code",
   "execution_count": null,
   "id": "6de6284c",
   "metadata": {},
   "outputs": [],
   "source": []
  },
  {
   "cell_type": "code",
   "execution_count": null,
   "id": "b8bb5126",
   "metadata": {},
   "outputs": [],
   "source": []
  }
 ],
 "metadata": {
  "kernelspec": {
   "display_name": "Python 3 (ipykernel)",
   "language": "python",
   "name": "python3"
  },
  "language_info": {
   "codemirror_mode": {
    "name": "ipython",
    "version": 3
   },
   "file_extension": ".py",
   "mimetype": "text/x-python",
   "name": "python",
   "nbconvert_exporter": "python",
   "pygments_lexer": "ipython3",
   "version": "3.10.4"
  }
 },
 "nbformat": 4,
 "nbformat_minor": 5
}
